{
  "cells": [
    {
      "cell_type": "code",
      "execution_count": null,
      "metadata": {
        "id": "Kv3RPUD3tDzo"
      },
      "outputs": [],
      "source": [
        "!pip install embree\n",
        "!pip install rtree\n",
        "!pip install shapely\n",
        "!pip install trimesh\n",
        "!pip install numpy\n",
        "!pip install scipy\n",
        "!pip install open3d\n",
        "!pip install pyglet"
      ]
    },
    {
      "cell_type": "code",
      "execution_count": null,
      "metadata": {
        "id": "0wIIEKSMCMjv"
      },
      "outputs": [],
      "source": [
        "!git clone https://github.com/coreqode/orientation_data/\n",
        "!mv /content/orientation_data/data /content/data"
      ]
    },
    {
      "cell_type": "code",
      "execution_count": null,
      "metadata": {
        "id": "obDSDWgYtLmJ"
      },
      "outputs": [],
      "source": [
        "import open3d as o3d\n",
        "import trimesh\n",
        "import os\n",
        "import numpy as np\n",
        "import scipy\n",
        "import matplotlib.pyplot as plt\n",
        "import copy\n",
        "import pyglet"
      ]
    },
    {
      "cell_type": "markdown",
      "metadata": {
        "id": "6yvgtx0UtODs"
      },
      "source": [
        "# Trimesh based visualizer "
      ]
    },
    {
      "cell_type": "code",
      "execution_count": null,
      "metadata": {
        "id": "K8aKKnsVtUsW"
      },
      "outputs": [],
      "source": [
        "def visualizer(root, mesh_name):\n",
        "    if 'list' in str(type(mesh_name)):\n",
        "        scene = trimesh.scene.Scene()\n",
        "        for name in mesh_name:\n",
        "            mesh_path = os.path.join(root,name)\n",
        "            mesh = trimesh.load(mesh_path, process=False, prefer_colors='vertex')\n",
        "            scene.add_geometry(mesh)\n",
        "        return scene\n",
        "    \n",
        "    mesh_path = os.path.join(root,mesh_name)\n",
        "    mesh = trimesh.load(mesh_path, process=False)\n",
        "    scene = trimesh.scene.Scene()\n",
        "    scene.add_geometry(mesh)\n",
        "    return scene"
      ]
    },
    {
      "cell_type": "markdown",
      "metadata": {
        "id": "35FrJ90ytZ_a"
      },
      "source": [
        "# Download the required data\n",
        "Download the data directory and save it in your Google drive.\n",
        "In the next cell, make sure to enter your drive/local appropriate location of the data to access the data present.\n",
        "If time permits or as an exercise, you can also try the following experiments on the point clouds or meshes of your own choice."
      ]
    },
    {
      "cell_type": "markdown",
      "metadata": {
        "id": "dhtyGyhstpek"
      },
      "source": [
        "## IO operations"
      ]
    },
    {
      "cell_type": "code",
      "execution_count": null,
      "metadata": {
        "id": "kXTHn86XtpC7"
      },
      "outputs": [],
      "source": [
        "src = '/content/data/'\n",
        "dest = '/content/output/'\n",
        "os.makedirs(dest, exist_ok=True)"
      ]
    },
    {
      "cell_type": "markdown",
      "metadata": {
        "id": "XPJ53XJftugq"
      },
      "source": [
        "# Point Cloud"
      ]
    },
    {
      "cell_type": "code",
      "execution_count": null,
      "metadata": {
        "id": "7HccSamPtXz_"
      },
      "outputs": [],
      "source": [
        "# read point cloud\n",
        "filename = 'bunny_pc.ply'\n",
        "pcd = o3d.io.read_point_cloud(os.path.join(src, filename))\n",
        "\n",
        "# write point cloud\n",
        "save_name = 'bunny_pc_new.ply'\n",
        "o3d.io.write_point_cloud(os.path.join(dest, save_name), pcd)\n",
        "print(len(np.asarray(pcd.points)))\n",
        "\n",
        "# print(np.asarray(pcd.points).shape)\n",
        "# print(np.asarray(pcd.points)[:10])\n",
        "\n",
        "scene = visualizer(dest, save_name)\n",
        "scene.show()"
      ]
    },
    {
      "cell_type": "markdown",
      "metadata": {
        "id": "sPT0yCIVt84d"
      },
      "source": [
        "# Triangle Mesh"
      ]
    },
    {
      "cell_type": "code",
      "execution_count": null,
      "metadata": {
        "id": "4iki_QQWtX5n"
      },
      "outputs": [],
      "source": [
        "# read triangle mesh\n",
        "filename = 'bunny_mesh.obj'\n",
        "mesh = o3d.io.read_triangle_mesh(os.path.join(src, filename))\n",
        "\n",
        "# write triangle mesh\n",
        "save_name = 'bunny_mesh_new.obj'\n",
        "o3d.io.write_triangle_mesh(os.path.join(dest, save_name), mesh)\n",
        "\n",
        "# # visualize\n",
        "scene = visualizer(dest, save_name)\n",
        "scene.show()"
      ]
    },
    {
      "cell_type": "markdown",
      "metadata": {
        "id": "qYqDAnM-uBAz"
      },
      "source": [
        "## Understanding Point Cloud"
      ]
    },
    {
      "cell_type": "code",
      "execution_count": null,
      "metadata": {
        "id": "4UiVZTXot_cB"
      },
      "outputs": [],
      "source": [
        "# read point cloud\n",
        "filename = 'bunny_pc.ply'\n",
        "pcd = o3d.io.read_point_cloud(os.path.join(src, filename))\n",
        "\n",
        "# access informaton using numpy\n",
        "points = np.asarray(pcd.points)\n",
        "colors = np.asarray(pcd.colors)\n",
        "normals = np.asarray(pcd.normals)\n",
        "print(points.shape, colors.shape, normals.shape)\n",
        "\n",
        "# print(colors[:10])\n",
        "\n",
        "scene = visualizer(src, filename)\n",
        "scene.show()"
      ]
    },
    {
      "cell_type": "markdown",
      "metadata": {
        "id": "ewIgkr5LuLc6"
      },
      "source": [
        "# Understanding Triangle Mesh"
      ]
    },
    {
      "cell_type": "code",
      "execution_count": null,
      "metadata": {
        "id": "Diu68d7Pt_ej"
      },
      "outputs": [],
      "source": [
        "# read triangle mesh\n",
        "filename = 'bunny_mesh.obj'\n",
        "mesh = o3d.io.read_triangle_mesh(os.path.join(src, filename))\n",
        "\n",
        "# access informaton using numpy\n",
        "vertices = np.asarray(mesh.vertices)\n",
        "faces = np.asarray(mesh.triangles)\n",
        "colors = np.asarray(mesh.vertex_colors)\n",
        "normals = np.asarray(mesh.vertex_normals)\n",
        "print(vertices.shape, faces.shape, colors.shape, normals.shape)"
      ]
    },
    {
      "cell_type": "markdown",
      "metadata": {
        "id": "fqtFjyRyuTpB"
      },
      "source": [
        "# Transformations"
      ]
    },
    {
      "cell_type": "markdown",
      "metadata": {
        "id": "5CYkBoLxuZ-e"
      },
      "source": [
        "## Rotation\n"
      ]
    },
    {
      "cell_type": "code",
      "execution_count": null,
      "metadata": {
        "id": "CN-UXjzLt_gz"
      },
      "outputs": [],
      "source": [
        "# random rotation\n",
        "R = scipy.spatial.transform.Rotation.random(1)\n",
        "R = R.as_matrix()\n",
        "R = np.array(R).reshape(3,3)\n",
        "\n",
        "# print(R)\n",
        "\n",
        "# read triangle mesh\n",
        "filename = 'bunny_mesh.obj'\n",
        "mesh = o3d.io.read_triangle_mesh(os.path.join(src, filename))\n",
        "mesh_rot = mesh.rotate(R)\n",
        "mesh.paint_uniform_color([1,0,0])\n",
        "\n",
        "# write triangle mesh\n",
        "save_name = 'mesh_rotated.obj'\n",
        "o3d.io.write_triangle_mesh(os.path.join(dest, save_name), mesh_rot)\n",
        "\n",
        "# visualize\n",
        "scene = visualizer(dest, [save_name,'bunny_mesh_new.obj'])\n",
        "scene.show()"
      ]
    },
    {
      "cell_type": "markdown",
      "metadata": {
        "id": "XsKtpxbyuenZ"
      },
      "source": [
        "## Translation\n"
      ]
    },
    {
      "cell_type": "code",
      "execution_count": null,
      "metadata": {
        "id": "c8HTxT37ue1p"
      },
      "outputs": [],
      "source": [
        "# random translation\n",
        "T = np.random.uniform(100,1000,(3,))\n",
        "\n",
        "# print(T)\n",
        "\n",
        "# read triangle mesh\n",
        "filename = 'bunny_mesh.obj'\n",
        "mesh = o3d.io.read_triangle_mesh(os.path.join(src, filename))\n",
        "mesh_translated = mesh.translate(T)\n",
        "mesh.paint_uniform_color([1,0,0])\n",
        "\n",
        "# write triangle mesh\n",
        "save_name = 'bunny_trans.obj'\n",
        "o3d.io.write_triangle_mesh(os.path.join(dest, save_name), mesh_translated)\n",
        "\n",
        "# visualize\n",
        "scene = visualizer(dest, [save_name, \"bunny_mesh_new.obj\"])\n",
        "scene.show()"
      ]
    },
    {
      "cell_type": "markdown",
      "metadata": {
        "id": "t8Q_2pf8ujMB"
      },
      "source": [
        "## Scale"
      ]
    },
    {
      "cell_type": "code",
      "execution_count": null,
      "metadata": {
        "id": "JHpYgwCjumtU"
      },
      "outputs": [],
      "source": [
        "# scaling paramter\n",
        "S = 2.0\n",
        "center = np.array([0,0,0])\n",
        "\n",
        "# read triangle mesh\n",
        "filename = 'bunny_mesh.obj'\n",
        "mesh = o3d.io.read_triangle_mesh(os.path.join(src, filename))\n",
        "mesh_scaled = mesh.scale(S, center)\n",
        "mesh.paint_uniform_color([1,0,0])\n",
        "\n",
        "# write triangle mesh\n",
        "save_name = 'mesh_scaled.obj'\n",
        "o3d.io.write_triangle_mesh(os.path.join(dest, save_name), mesh_scaled)\n",
        "\n",
        "# visualize\n",
        "scene = visualizer(dest, [save_name,'bunny_mesh_new.obj'])\n",
        "scene.show()"
      ]
    },
    {
      "cell_type": "markdown",
      "metadata": {
        "id": "yks4ixUSuo4C"
      },
      "source": [
        "## Transformation Matrix"
      ]
    },
    {
      "cell_type": "code",
      "execution_count": null,
      "metadata": {
        "id": "0wly-647uskh"
      },
      "outputs": [],
      "source": [
        "# random rotation\n",
        "R = scipy.spatial.transform.Rotation.random(1)\n",
        "R = R.as_matrix()\n",
        "R = np.array(R).reshape(3,3)\n",
        "\n",
        "# random translation\n",
        "T = np.random.uniform(-500,500,(3,))\n",
        "\n",
        "# scaling factor\n",
        "scale = 2.0\n",
        "print(R.shape, T.shape, scale)"
      ]
    },
    {
      "cell_type": "code",
      "execution_count": null,
      "metadata": {
        "id": "fl1KHG06utHR"
      },
      "outputs": [],
      "source": [
        "# create transformation matrices\n",
        "RT = np.eye(4)\n",
        "RT[:3,:3] = R\n",
        "RT[:3,3] = T\n",
        "\n",
        "S = np.eye(4)\n",
        "S[:3,:3] = scale*np.eye(3)\n",
        "\n",
        "# read triangle mesh\n",
        "filename = 'bunny_mesh.obj'\n",
        "mesh = o3d.io.read_triangle_mesh(os.path.join(src, filename))\n",
        "\n",
        "# apply transformations\n",
        "mesh.transform(S)\n",
        "mesh.transform(RT)\n",
        "\n",
        "# assign different color\n",
        "mesh.paint_uniform_color([1,0,0])\n",
        "\n",
        "# write triangle mesh\n",
        "save_name = 'mesh_transformed.obj'\n",
        "o3d.io.write_triangle_mesh(os.path.join(dest, save_name), mesh)\n",
        "\n",
        "# visualize\n",
        "scene = visualizer(dest, [save_name,'bunny_mesh_new.obj'])\n",
        "scene.show()"
      ]
    },
    {
      "cell_type": "markdown",
      "metadata": {
        "id": "ZopUXGefuw8B"
      },
      "source": [
        "## Different order of transformations"
      ]
    },
    {
      "cell_type": "code",
      "execution_count": null,
      "metadata": {
        "id": "o3UvoJA4u1I-"
      },
      "outputs": [],
      "source": [
        "# read triangle mesh\n",
        "filename = 'bunny_mesh.obj'\n",
        "mesh = o3d.io.read_triangle_mesh(os.path.join(src, filename))\n",
        "# apply transformations\n",
        "mesh.transform(S)\n",
        "mesh.transform(RT)\n",
        "# assign different color\n",
        "mesh.paint_uniform_color([1,0.5,0])\n",
        "# write triangle mesh\n",
        "save_name_1 = 'mesh_transformed_1.obj'\n",
        "o3d.io.write_triangle_mesh(os.path.join(dest, save_name_1), mesh)\n",
        "\n",
        "\n",
        "# read triangle mesh\n",
        "filename = 'bunny_mesh.obj'\n",
        "mesh = o3d.io.read_triangle_mesh(os.path.join(src, filename))\n",
        "# apply transformations (different order)\n",
        "mesh.transform(RT)\n",
        "mesh.transform(S)\n",
        "# assign different color\n",
        "mesh.paint_uniform_color([0.3,1,0])\n",
        "# write triangle mesh\n",
        "save_name_2 = 'mesh_transformed_2.obj'\n",
        "o3d.io.write_triangle_mesh(os.path.join(dest, save_name_2), mesh)\n",
        "\n",
        "# visualize\n",
        "scene = visualizer(dest, [save_name_1, save_name_2, 'bunny_mesh_new.obj'])\n",
        "scene.show()"
      ]
    },
    {
      "cell_type": "markdown",
      "metadata": {
        "id": "fkE9R_9zu6Hu"
      },
      "source": [
        "# Working with RGB-D data"
      ]
    },
    {
      "cell_type": "code",
      "execution_count": null,
      "metadata": {
        "id": "WcDFDHGLu5ap"
      },
      "outputs": [],
      "source": [
        "# data loading\n",
        "redwood_rgbd = o3d.data.SampleRedwoodRGBDImages()\n",
        "color_raw = o3d.io.read_image(redwood_rgbd.color_paths[0])\n",
        "depth_raw = o3d.io.read_image(redwood_rgbd.depth_paths[0])\n",
        "\n",
        "# create RGBD image ( 3 + 1 = 4 channels )\n",
        "rgbd = o3d.geometry.RGBDImage.create_from_color_and_depth(color_raw, depth_raw, convert_rgb_to_intensity=False)\n",
        "\n",
        "print(\"Color info : \",rgbd.color)\n",
        "print()\n",
        "print(\"Depth info : \",rgbd.depth)\n",
        "# print()\n",
        "# print()\n",
        "# print(\"Color info :\", np.asarray(rgbd.color))\n",
        "# print()\n",
        "# print(\"Depth info :\", np.asarray(rgbd.depth))"
      ]
    },
    {
      "cell_type": "code",
      "execution_count": null,
      "metadata": {
        "id": "lN_LLGqru5dI"
      },
      "outputs": [],
      "source": [
        "# plot\n",
        "fig, ax = plt.subplots(nrows=1, ncols=2)\n",
        "fig.set_size_inches(20,40)\n",
        "ax[0].imshow(rgbd.color)\n",
        "ax[0].set_title('RGB',size=30)\n",
        "ax[1].imshow(rgbd.depth,cmap='hot')\n",
        "ax[1].set_title('Depth',size=30)\n",
        "plt.show()"
      ]
    },
    {
      "cell_type": "markdown",
      "metadata": {
        "id": "LJ2pO3BHvCFl"
      },
      "source": [
        "# Point Cloud from RGBD"
      ]
    },
    {
      "cell_type": "code",
      "execution_count": null,
      "metadata": {
        "id": "T39X2iWgu5ja"
      },
      "outputs": [],
      "source": [
        "# Camera intrinsics\n",
        "cam_intrinsics =  o3d.camera.PinholeCameraIntrinsic(\n",
        "        o3d.camera.PinholeCameraIntrinsicParameters.PrimeSenseDefault)\n",
        "\n",
        "cam_intrinsics.intrinsic_matrix"
      ]
    },
    {
      "cell_type": "code",
      "execution_count": null,
      "metadata": {
        "id": "pvSTK6qtvE9e"
      },
      "outputs": [],
      "source": [
        "# point cloud from RGBD\n",
        "pcd = o3d.geometry.PointCloud.create_from_rgbd_image(rgbd, cam_intrinsics)\n",
        "\n",
        "# Flip it, otherwise the pointcloud will be upside down\n",
        "pcd.transform([[1, 0, 0, 0], [0, -1, 0, 0], [0, 0, -1, 0], [0, 0, 0, 1]])\n",
        "\n",
        "# write point cloud\n",
        "save_name = 'pcd_from_rgbd.ply'\n",
        "o3d.io.write_point_cloud(os.path.join(dest, save_name), pcd)\n",
        "\n",
        "# visualize\n",
        "scene = visualizer(dest, [save_name])\n",
        "scene.show()"
      ]
    },
    {
      "cell_type": "markdown",
      "metadata": {
        "id": "ENgcCw9XvG1i"
      },
      "source": [
        "# Point Cloud Registration"
      ]
    },
    {
      "cell_type": "code",
      "execution_count": null,
      "metadata": {
        "id": "g66-kOyUvHFL"
      },
      "outputs": [],
      "source": [
        "# # Camera intrinsics\n",
        "# cam_intrinsics =  o3d.camera.PinholeCameraIntrinsic(\n",
        "#         o3d.camera.PinholeCameraIntrinsicParameters.PrimeSenseDefault)\n",
        "\n",
        "# # data loading (source)\n",
        "# redwood_rgbd = o3d.data.SampleRedwoodRGBDImages()\n",
        "# color_raw = o3d.io.read_image(redwood_rgbd.color_paths[1])\n",
        "# depth_raw = o3d.io.read_image(redwood_rgbd.depth_paths[1])\n",
        "# # create RGBD image ( 3 + 1 = 4 channels )\n",
        "# rgbd = o3d.geometry.RGBDImage.create_from_color_and_depth(color_raw, depth_raw, convert_rgb_to_intensity=False)\n",
        "# # point cloud from RGBD\n",
        "# pcd_source = o3d.geometry.PointCloud.create_from_rgbd_image(rgbd, cam_intrinsics)\n",
        "\n",
        "# # data loading (target)\n",
        "# redwood_rgbd = o3d.data.SampleRedwoodRGBDImages()\n",
        "# color_raw = o3d.io.read_image(redwood_rgbd.color_paths[2])\n",
        "# depth_raw = o3d.io.read_image(redwood_rgbd.depth_paths[2])\n",
        "# # create RGBD image ( 3 + 1 = 4 channels )\n",
        "# rgbd = o3d.geometry.RGBDImage.create_from_color_and_depth(color_raw, depth_raw, convert_rgb_to_intensity=False)\n",
        "# # point cloud from RGBD\n",
        "# pcd_target = o3d.geometry.PointCloud.create_from_rgbd_image(rgbd, cam_intrinsics)"
      ]
    },
    {
      "cell_type": "code",
      "execution_count": null,
      "metadata": {
        "id": "thL0PIfFvMM8"
      },
      "outputs": [],
      "source": [
        "# # write point clouds\n",
        "# save_name_source = 'pcd_source.ply'\n",
        "# save_name_target = 'pcd_target.ply'\n",
        "# o3d.io.write_point_cloud(os.path.join(dest, save_name_source), pcd_source)\n",
        "# o3d.io.write_point_cloud(os.path.join(dest, save_name_target), pcd_target)\n",
        "\n",
        "# # visualize\n",
        "# scene = visualizer(dest, [save_name_source, save_name_target])\n",
        "# scene.show()"
      ]
    },
    {
      "cell_type": "code",
      "execution_count": null,
      "metadata": {
        "id": "AK9Cb3jhvOBl"
      },
      "outputs": [],
      "source": [
        "# pcd_source_temp = copy.deepcopy(pcd_source)\n",
        "# pcd_target_temp = copy.deepcopy(pcd_target)\n",
        "\n",
        "# pcd_source_temp.paint_uniform_color([1.0, 0.8, 0.4]) # --> Blue\n",
        "# # pcd_target_temp.paint_uniform_color([0.4,0.8,1.0]) # --> Orange\n",
        "\n",
        "# # write point clouds\n",
        "# save_name_source_temp = 'pcd_source_temp.ply'\n",
        "# save_name_target_temp = 'pcd_target_temp.ply'\n",
        "# o3d.io.write_point_cloud(os.path.join(dest, save_name_source_temp), pcd_source_temp)\n",
        "# o3d.io.write_point_cloud(os.path.join(dest, save_name_target_temp), pcd_target_temp)\n",
        "\n",
        "# # visualize\n",
        "# scene = visualizer(dest, [save_name_source_temp, save_name_target_temp])\n",
        "# scene.show()"
      ]
    },
    {
      "cell_type": "markdown",
      "metadata": {
        "id": "2QC6X3eKvPr1"
      },
      "source": [
        "#### Exercise : Random Transformation"
      ]
    },
    {
      "cell_type": "markdown",
      "metadata": {
        "id": "FFbgeMwpvP5l"
      },
      "source": [
        "Construct a random RT matrix (no scaling) and apply it to the Source Point Cloud."
      ]
    },
    {
      "cell_type": "code",
      "execution_count": null,
      "metadata": {
        "id": "WTjsN-BTvcxn"
      },
      "outputs": [],
      "source": [
        "filename = 'pcd_from_rgbd.ply'\n",
        "pcd_source= o3d.io.read_point_cloud(os.path.join(dest, filename))\n",
        "# random rotation\n",
        "R = scipy.spatial.transform.Rotation.random(1)\n",
        "R = R.as_matrix()\n",
        "R = np.array(R).reshape(3,3)\n",
        "\n",
        "# random translation\n",
        "T = np.random.uniform(-1,1,(3,))\n",
        "\n",
        "# create transformation matrices\n",
        "RT = np.eye(4)\n",
        "RT[:3,:3] = R\n",
        "RT[:3,3] = T\n",
        "\n",
        "# apply RT to pcd_source\n",
        "pcd_source.transform(RT)\n",
        "\n",
        "# write transformed point cloud\n",
        "save_name_source = 'pcd_target.ply'\n",
        "save_name_target = 'pcd_from_rgbd.ply'\n",
        "o3d.io.write_point_cloud(os.path.join(dest, save_name_source), pcd_source)\n",
        "# visualize\n",
        "scene = visualizer(dest, [save_name_source, save_name_target])\n",
        "scene.show()"
      ]
    },
    {
      "cell_type": "markdown",
      "metadata": {
        "id": "2Yxzxrb7vezt"
      },
      "source": [
        "#### Global Registration"
      ]
    },
    {
      "cell_type": "code",
      "execution_count": null,
      "metadata": {
        "id": "NThvjC1YvgTl"
      },
      "outputs": [],
      "source": [
        "def preprocess_point_cloud(pcd, voxel_size):\n",
        "    print(\":: Downsample with a voxel size %.3f.\" % voxel_size)\n",
        "    pcd_down = pcd.voxel_down_sample(voxel_size)\n",
        "\n",
        "    radius_normal = voxel_size * 2\n",
        "    print(\":: Estimate normal with search radius %.3f.\" % radius_normal)\n",
        "    pcd_down.estimate_normals(\n",
        "        o3d.geometry.KDTreeSearchParamHybrid(radius=radius_normal, max_nn=30))\n",
        "\n",
        "    radius_feature = voxel_size * 5\n",
        "    print(\":: Compute FPFH feature with search radius %.3f.\" % radius_feature)\n",
        "    pcd_fpfh = o3d.pipelines.registration.compute_fpfh_feature(\n",
        "        pcd_down,\n",
        "        o3d.geometry.KDTreeSearchParamHybrid(radius=radius_feature, max_nn=100))\n",
        "    return pcd_down, pcd_fpfh\n",
        "\n",
        "filename = 'pcd_from_rgbd.ply'\n",
        "pcd_source= o3d.io.read_point_cloud(os.path.join(dest, filename))\n",
        "filename = 'pcd_target.ply'\n",
        "pcd_target= o3d.io.read_point_cloud(os.path.join(dest, filename))\n",
        "voxel_size = 0.05\n",
        "source_down, source_fpfh = preprocess_point_cloud(pcd_source, voxel_size)\n",
        "target_down, target_fpfh = preprocess_point_cloud(pcd_target, voxel_size)"
      ]
    },
    {
      "cell_type": "code",
      "execution_count": null,
      "metadata": {
        "id": "r-FLv4tmviuw"
      },
      "outputs": [],
      "source": [
        "distance_threshold = voxel_size*1.5\n",
        "result = o3d.pipelines.registration.registration_ransac_based_on_feature_matching(\n",
        "        source_down, target_down, source_fpfh, target_fpfh, True,\n",
        "        distance_threshold,\n",
        "        o3d.pipelines.registration.TransformationEstimationPointToPoint(False),\n",
        "        3, [\n",
        "            o3d.pipelines.registration.CorrespondenceCheckerBasedOnEdgeLength(\n",
        "                0.9),\n",
        "            o3d.pipelines.registration.CorrespondenceCheckerBasedOnDistance(\n",
        "                distance_threshold)\n",
        "        ], o3d.pipelines.registration.RANSACConvergenceCriteria(100000, 0.999))\n",
        "\n",
        "RT_global = result.transformation\n",
        "RT_global"
      ]
    },
    {
      "cell_type": "code",
      "execution_count": null,
      "metadata": {
        "id": "4pyHYq9dvixB"
      },
      "outputs": [],
      "source": [
        "# apply RT_golbal to pcd_source\n",
        "pcd_source_temp = copy.deepcopy(pcd_source)\n",
        "pcd_source_temp.transform(RT_global)\n",
        "\n",
        "# write transformed point cloud\n",
        "save_name_source_temp = 'pcd_source_transformed.ply'\n",
        "o3d.io.write_point_cloud(os.path.join(dest, save_name_source_temp), pcd_source_temp)\n",
        "\n",
        "# visualize\n",
        "scene = visualizer(dest, [save_name_source_temp, 'pcd_target.ply'])\n",
        "scene.show()"
      ]
    },
    {
      "cell_type": "markdown",
      "metadata": {
        "id": "VGOLUArIvmcE"
      },
      "source": [
        "#### Local Refinement (ICP)"
      ]
    },
    {
      "cell_type": "markdown",
      "metadata": {
        "id": "Pjkpw2DTvoni"
      },
      "source": [
        "Point-to-Point ICP"
      ]
    },
    {
      "cell_type": "code",
      "execution_count": null,
      "metadata": {
        "id": "SNLdUQw9vrB7"
      },
      "outputs": [],
      "source": [
        "threshold = 0.1\n",
        "p2p_icp = o3d.pipelines.registration.registration_icp(\n",
        "    pcd_source, pcd_target, threshold, RT_global,\n",
        "    o3d.pipelines.registration.TransformationEstimationPointToPoint(),\n",
        "    o3d.pipelines.registration.ICPConvergenceCriteria(max_iteration=30))"
      ]
    },
    {
      "cell_type": "code",
      "execution_count": null,
      "metadata": {
        "id": "7epkheX_vtSj"
      },
      "outputs": [],
      "source": [
        "RT_refined = p2p_icp.transformation\n",
        "RT_refined"
      ]
    },
    {
      "cell_type": "code",
      "execution_count": null,
      "metadata": {
        "id": "1IuU9H2YvtU-"
      },
      "outputs": [],
      "source": [
        "# apply RT_golbal to pcd_source\n",
        "pcd_source_temp = copy.deepcopy(pcd_source)\n",
        "pcd_source_temp.transform(RT_refined)\n",
        "\n",
        "# write transformed point cloud\n",
        "save_name_source_temp = 'pcd_source_transformed.ply'\n",
        "o3d.io.write_point_cloud(os.path.join(dest, save_name_source_temp), pcd_source_temp)\n",
        "\n",
        "# visualize\n",
        "scene = visualizer(dest, [save_name_source_temp, 'pcd_target.ply'])\n",
        "scene.show()"
      ]
    },
    {
      "cell_type": "code",
      "execution_count": null,
      "metadata": {
        "id": "b0HzPGEqBRJL"
      },
      "outputs": [],
      "source": []
    }
  ],
  "metadata": {
    "colab": {
      "provenance": []
    },
    "kernelspec": {
      "display_name": "Python 3",
      "name": "python3"
    },
    "language_info": {
      "name": "python"
    }
  },
  "nbformat": 4,
  "nbformat_minor": 0
}